{
 "cells": [
  {
   "cell_type": "code",
   "execution_count": 2,
   "id": "06828cf1",
   "metadata": {},
   "outputs": [
    {
     "name": "stdout",
     "output_type": "stream",
     "text": [
      "Enter the first number: w\n",
      "Invalid input. Please enter a number\n",
      "Enter the first number: 2\n",
      "Enter the second number: 4\n",
      "Enter the operation (+, -, *, /): @\n",
      "Invalid operation. Please choose +,-,*,/\n",
      "Enter the first number: 2\n",
      "Enter the second number: 4\n",
      "Enter the operation (+, -, *, /): *\n",
      "The result is: 8.0\n"
     ]
    }
   ],
   "source": [
    "def simple_calculator():\n",
    "    while True:\n",
    "        try:\n",
    "            # Ask user input for the first number, second number and operation to execute\n",
    "            num1 = float(input(\"Enter the first number: \"))\n",
    "            num2 = float(input(\"Enter the second number: \"))\n",
    "            operation = input(\"Enter the operation (+, -, *, /): \")\n",
    "            \n",
    "            # Perform the chosen operation\n",
    "            if operation == '+':\n",
    "                result = num1 + num2\n",
    "            elif operation == '-':\n",
    "                result = num1 - num2\n",
    "            elif operation == '*':\n",
    "                result = num1 * num2\n",
    "            elif operation == '/':\n",
    "                result=num1/num2\n",
    "            else:\n",
    "                print(\"Invalid operation. Please choose +,-,*,/\")\n",
    "                continue\n",
    "          \n",
    "            print(f\"The result is: {result}\")\n",
    "            break \n",
    "                \n",
    "        except ValueError:\n",
    "            print(\"Invalid input. Please enter a number\")\n",
    "        except ZeroDivisionError:\n",
    "            print(\"Error. Cannot divide number by zero\")\n",
    "        except Exception as e:\n",
    "            print(f\"An unexpected error occured: {e}\")\n",
    "\n",
    "simple_calculator()"
   ]
  },
  {
   "cell_type": "code",
   "execution_count": null,
   "id": "62a12cd4",
   "metadata": {},
   "outputs": [],
   "source": []
  }
 ],
 "metadata": {
  "kernelspec": {
   "display_name": "Python 3 (ipykernel)",
   "language": "python",
   "name": "python3"
  },
  "language_info": {
   "codemirror_mode": {
    "name": "ipython",
    "version": 3
   },
   "file_extension": ".py",
   "mimetype": "text/x-python",
   "name": "python",
   "nbconvert_exporter": "python",
   "pygments_lexer": "ipython3",
   "version": "3.11.5"
  }
 },
 "nbformat": 4,
 "nbformat_minor": 5
}
